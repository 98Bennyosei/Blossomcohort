{
 "cells": [
  {
   "cell_type": "markdown",
   "id": "352dd2e3",
   "metadata": {},
   "source": [
    "### Q1\n",
    "\n",
    "Define a python function that calculate the perimeter of the rectangle\n",
    "\n",
    "Formular\n",
    "\n",
    "formular => 2 X length + 2 X Width"
   ]
  },
  {
   "cell_type": "code",
   "execution_count": 1,
   "id": "8c3b625b",
   "metadata": {},
   "outputs": [
    {
     "name": "stdout",
     "output_type": "stream",
     "text": [
      "Enter length of your rectangle: 2\n",
      "Enter width of your rectangle5\n",
      "The perimeter of your rectangle is: 14\n"
     ]
    }
   ],
   "source": [
    "length = int(input(\"Enter length of your rectangle: \"))\n",
    "width = int(input(\"Enter width of your rectangle\"))\n",
    "\n",
    "def perimeter(l,w):\n",
    "    prmtr = (2 * l) + (2 *w)\n",
    "    print(f\"The perimeter of your rectangle is: {prmtr}\")\n",
    "    \n",
    "perimeter(length,width)"
   ]
  },
  {
   "cell_type": "markdown",
   "id": "a56ccec8",
   "metadata": {},
   "source": [
    "### Q2\n",
    "Define the function to calculate the area of a circle. Round the answer to 3 decimal places.\n",
    "\n",
    "**Preamble**\n",
    " - Take pi as 22/7\n",
    " - formular pi x r ** 2"
   ]
  },
  {
   "cell_type": "code",
   "execution_count": 2,
   "id": "092098e9",
   "metadata": {},
   "outputs": [
    {
     "name": "stdout",
     "output_type": "stream",
     "text": [
      "Enter radius of your circle: 12\n",
      "The area of your circle is 452.571\n"
     ]
    }
   ],
   "source": [
    "radius = int(input(\"Enter radius of your circle: \"))\n",
    "\n",
    "def area(r):\n",
    "    pi = 22/7\n",
    "    area = round((pi * (r ** 2)),3)\n",
    "    print(f\"The area of your circle is {area}\")\n",
    "    \n",
    "area(radius)"
   ]
  },
  {
   "cell_type": "markdown",
   "id": "be5a6965",
   "metadata": {},
   "source": [
    "### Q3\n",
    "Define a function that takes a list of numbers and print out the **mean**, **median** and **mode**.\n",
    "\n",
    "- Test your function with the list b\n",
    "\n",
    "`b = [2,3,4,6,7,3,4,3,2,1,3]`"
   ]
  },
  {
   "cell_type": "code",
   "execution_count": 3,
   "id": "ea85b244",
   "metadata": {},
   "outputs": [
    {
     "name": "stdout",
     "output_type": "stream",
     "text": [
      "The mean of the numbers is: 3.455\n",
      "The median of the numbers is: 3\n",
      "The mode of the numbers is: 3\n"
     ]
    }
   ],
   "source": [
    "b = [2,3,4,6,7,3,4,3,2,1,3]\n",
    "frequency = {}\n",
    "\n",
    "def stats(lst):\n",
    "    mean = round(sum(lst)/len(lst),3)\n",
    "    print(f\"The mean of the numbers is: {mean}\")\n",
    "    median = sorted(b)[len(b)// 2]\n",
    "    print(f\"The median of the numbers is: {median}\") \n",
    "    for num in b:\n",
    "        if num in frequency:\n",
    "            frequency[num] += 1\n",
    "        else:\n",
    "            frequency[num] = 1\n",
    "    mode = max(frequency, key=frequency.get)\n",
    "    print(f\"The mode of the numbers is: {mode}\")    \n",
    "    \n",
    "    \n",
    "stats(b)"
   ]
  },
  {
   "cell_type": "markdown",
   "id": "3313ab10",
   "metadata": {},
   "source": [
    "### Q4\n",
    "Define a function that prints out the list of the first 20 prime numbers"
   ]
  },
  {
   "cell_type": "code",
   "execution_count": 4,
   "id": "defb1143",
   "metadata": {},
   "outputs": [
    {
     "data": {
      "text/plain": [
       "[2, 3, 5, 7, 11, 13, 17, 19, 23, 29, 31, 37, 41, 43, 47, 53, 59, 61, 67, 71]"
      ]
     },
     "execution_count": 4,
     "metadata": {},
     "output_type": "execute_result"
    }
   ],
   "source": [
    "def prime_list(n):\n",
    "    prime = []\n",
    "    for num in range(2, n):\n",
    "        for i in range(2, num):\n",
    "            if num % i == 0:\n",
    "                break\n",
    "        else:\n",
    "            prime.append(num)\n",
    "            if len(prime) == 20:\n",
    "                break\n",
    "    return prime\n",
    "prime_list(73)"
   ]
  },
  {
   "cell_type": "markdown",
   "id": "ef1c5863",
   "metadata": {},
   "source": [
    "#### Q5\n",
    "Define a function that takes a list of strings and print out the string and the length of the string.\n",
    "\n",
    "**Example of expected output**\n",
    "\n",
    "{\"Kofi\":4,\n",
    "\"Ama\":3,\n",
    "\"Sedem\":5}"
   ]
  },
  {
   "cell_type": "code",
   "execution_count": 5,
   "id": "9f4a1145",
   "metadata": {},
   "outputs": [
    {
     "data": {
      "text/plain": [
       "{'John': 4, 'Sam': 3, 'Delali': 6}"
      ]
     },
     "execution_count": 5,
     "metadata": {},
     "output_type": "execute_result"
    }
   ],
   "source": [
    "def str_and_len(lst):\n",
    "    funct = {}\n",
    "    for i in lst:\n",
    "        funct.update({i:len(i)})\n",
    "    return funct\n",
    "\n",
    "lst=[\"John\", \"Sam\", \"Delali\"]\n",
    "\n",
    "str_and_len(lst)"
   ]
  },
  {
   "cell_type": "markdown",
   "id": "5072c8d8",
   "metadata": {},
   "source": [
    "### Q6\n",
    "Define a function that takes a list of strings and numbers and print out only the strings and the position of the strings.\n",
    "\n",
    "**Preamble**\n",
    "\n",
    "names = ['sedem', 'Kofi', 'kobla']\n",
    "\n",
    "**Expected Output**\n",
    "\n",
    "{'sedem': P0, 'Kofi': P1, 'kobla': P2}"
   ]
  },
  {
   "cell_type": "code",
   "execution_count": 6,
   "id": "c7bafd99",
   "metadata": {},
   "outputs": [
    {
     "data": {
      "text/plain": [
       "{'sedem': 0, 'Kofi': 1, 'kobla': 2}"
      ]
     },
     "execution_count": 6,
     "metadata": {},
     "output_type": "execute_result"
    }
   ],
   "source": [
    "def strings_positions(lst):\n",
    "    funct = {}\n",
    "    for index,value in enumerate(lst):\n",
    "        if type(value) == str:\n",
    "            funct.update({value:index})\n",
    "    return funct\n",
    "\n",
    "names = ['sedem', 'Kofi', 'kobla']\n",
    "strings_positions(names)"
   ]
  },
  {
   "cell_type": "markdown",
   "id": "5593b665",
   "metadata": {},
   "source": [
    "### Q7\n",
    "Define a function that returns whether the sum of a person age and person's date of birth equals 2023\n",
    "\n",
    "**Preamble**\n",
    "\n",
    "2001 + 22 => True\n",
    "\n",
    "2002 + 5 => False"
   ]
  },
  {
   "cell_type": "code",
   "execution_count": 7,
   "id": "7b5a8ba4",
   "metadata": {},
   "outputs": [
    {
     "name": "stdout",
     "output_type": "stream",
     "text": [
      "Enter your age: 123\n",
      "Enter your birth year: 1899\n",
      "2022 => False\n"
     ]
    }
   ],
   "source": [
    "age=int(input(\"Enter your age: \"))\n",
    "birth_year=int(input(\"Enter your birth year: \"))\n",
    "\n",
    "def age_checker(age,year):\n",
    "    if age + year == 2023:\n",
    "        print(f\"{age + year} => True\")\n",
    "    else:\n",
    "        print(f\"{age + year} => False\")\n",
    "              \n",
    "age_checker(age,birth_year)"
   ]
  },
  {
   "cell_type": "markdown",
   "id": "f831e652",
   "metadata": {},
   "source": [
    "##Q8\n",
    "Define a function that determine whether a particular year is a **decade**, the output should be a boolean (True or False)\n"
   ]
  },
  {
   "cell_type": "code",
   "execution_count": 8,
   "id": "53f86b74",
   "metadata": {
    "scrolled": false
   },
   "outputs": [
    {
     "name": "stdout",
     "output_type": "stream",
     "text": [
      "Enter year: 2000\n",
      "True\n"
     ]
    }
   ],
   "source": [
    "\n",
    "year = int(input(\"Enter year: \"))\n",
    "\n",
    "def decade_checker(year):\n",
    "    if year % 10 == 0:\n",
    "        print(True)\n",
    "    else:\n",
    "        print(False)\n",
    "decade_checker(year)"
   ]
  },
  {
   "cell_type": "markdown",
   "id": "211c19e3",
   "metadata": {},
   "source": [
    "### Q9\n",
    "Define a function that contains a list of strings and punctuations,the output should on return the list of punctuations.\n"
   ]
  },
  {
   "cell_type": "code",
   "execution_count": 9,
   "id": "53e236d0",
   "metadata": {},
   "outputs": [],
   "source": [
    "def punctuations(lst):\n",
    "    puncts = []\n",
    "    for item in lst:\n",
    "        if not item.isalpha():\n",
    "            puncts.append(item)\n",
    "    return puncts"
   ]
  },
  {
   "cell_type": "markdown",
   "id": "34bae9ec",
   "metadata": {},
   "source": [
    "### Q10\n",
    "\n",
    "Define a lambda function that print out the cubic root of a list of numbers"
   ]
  },
  {
   "cell_type": "code",
   "execution_count": 10,
   "id": "4f08c69e",
   "metadata": {},
   "outputs": [
    {
     "name": "stdout",
     "output_type": "stream",
     "text": [
      "[1.0, 2.0, 3.0, 4.0, 5.0]\n"
     ]
    }
   ],
   "source": [
    "cube = [1, 8, 27, 64, 125]\n",
    "cubic_root_lambda = lambda x: round((x**(1/3)),3)\n",
    "print(list(map(cubic_root_lambda, cube)))"
   ]
  },
  {
   "cell_type": "markdown",
   "id": "37974632",
   "metadata": {},
   "source": [
    "### Q11\n",
    "Define a lambda function that print out the cube of a list of numbers"
   ]
  },
  {
   "cell_type": "code",
   "execution_count": 11,
   "id": "211e8880",
   "metadata": {},
   "outputs": [
    {
     "name": "stdout",
     "output_type": "stream",
     "text": [
      "[1.0, 2.0, 3.0, 4.0, 5.0]\n"
     ]
    }
   ],
   "source": [
    "cube = [1, 8, 27, 64, 125]\n",
    "cubic_root_lambda = lambda x: round((x**(1/3)),3)\n",
    "print(list(map(cubic_root_lambda, cube)))"
   ]
  },
  {
   "cell_type": "markdown",
   "id": "b1522dbb",
   "metadata": {},
   "source": [
    "### Q12\n",
    "Define a function that take a list of list of numbers and return a list that contains the average of each sublist using map."
   ]
  },
  {
   "cell_type": "code",
   "execution_count": 12,
   "id": "0d8e6a4f",
   "metadata": {},
   "outputs": [
    {
     "name": "stdout",
     "output_type": "stream",
     "text": [
      "[2.0, 5.0, 8.0]\n"
     ]
    }
   ],
   "source": [
    "list_num = [[1, 2, 3], [4, 5, 6], [7, 8, 9]]\n",
    "sublist_avg = lambda x: sum(x)/len(x)\n",
    "print(list(map(sublist_avg, list_num)))"
   ]
  },
  {
   "cell_type": "markdown",
   "id": "0fd5cd06",
   "metadata": {},
   "source": [
    "### Q13\n",
    "Define a function that takes a list of strings and filter out strings that are upper case."
   ]
  },
  {
   "cell_type": "code",
   "execution_count": 13,
   "id": "e4785c25",
   "metadata": {},
   "outputs": [
    {
     "name": "stdout",
     "output_type": "stream",
     "text": [
      "[]\n"
     ]
    }
   ],
   "source": [
    "\n",
    "def upper_case(name):\n",
    "    return name.isupper()\n",
    "cities = [\"AcuRa\", \"tESla\", \"CheVY\", \"OLdsmobile\", \"FoRd\", \"EscaLDE\"]\n",
    "upper_cities = list(filter(upper_case, cities))\n",
    "print(upper_cities)"
   ]
  },
  {
   "cell_type": "markdown",
   "id": "d0dddd17",
   "metadata": {},
   "source": [
    "### Q14\n",
    "Define a function that takes a list of numbers and print out the numbers which are prime in the list."
   ]
  },
  {
   "cell_type": "code",
   "execution_count": 14,
   "id": "eaf79748",
   "metadata": {},
   "outputs": [
    {
     "name": "stdout",
     "output_type": "stream",
     "text": [
      "2\n",
      "3\n",
      "5\n",
      "7\n"
     ]
    }
   ],
   "source": [
    "def prime_nums(numbers):\n",
    "    for num in numbers:\n",
    "        if num > 1:\n",
    "            for i in range(2,num):\n",
    "                if (num %i) == 0:\n",
    "                    break\n",
    "            else:\n",
    "                print(num)\n",
    "prime_lts = [1, 2, 3, 4, 5, 6, 7, 8, 9, 10]\n",
    "prime_nums(prime_lts)"
   ]
  },
  {
   "cell_type": "markdown",
   "id": "240741dc",
   "metadata": {},
   "source": [
    "### Q15\n",
    "Define a function that take a list of strings and return a zip of each string and length of a string."
   ]
  },
  {
   "cell_type": "code",
   "execution_count": 15,
   "id": "a22f39e3",
   "metadata": {},
   "outputs": [
    {
     "name": "stdout",
     "output_type": "stream",
     "text": [
      "('NO', 2)\n",
      "('EXIST', 5)\n",
      "('use', 3)\n",
      "('staircase', 9)\n"
     ]
    }
   ],
   "source": [
    "\n",
    "\n",
    "def zip_strings_and_lengths(str):\n",
    "    return zip(str, map(len, str))\n",
    "str = [\"NO\", \"EXIST\", \"use\", \"staircase\"]\n",
    "zipped = zip_strings_and_lengths(str)\n",
    "\n",
    "for pair in zipped:\n",
    "    print(pair)"
   ]
  },
  {
   "cell_type": "markdown",
   "id": "44a1339f",
   "metadata": {},
   "source": [
    "### Q16\n",
    "Define a function that takes in a number and return the first 12 multiples of the the number.\n",
    "\n",
    "Expected Output\n",
    "\n",
    "2 X 1 = 2\n",
    "\n",
    "to\n",
    "\n",
    "2 X 12 = 24"
   ]
  },
  {
   "cell_type": "code",
   "execution_count": 16,
   "id": "94ff17a1",
   "metadata": {
    "scrolled": false
   },
   "outputs": [
    {
     "name": "stdout",
     "output_type": "stream",
     "text": [
      "Input a number : 5\n",
      "5 X 1 = 5\n",
      "5 X 2 = 10\n",
      "5 X 3 = 15\n",
      "5 X 4 = 20\n",
      "5 X 5 = 25\n",
      "5 X 6 = 30\n",
      "5 X 7 = 35\n",
      "5 X 8 = 40\n",
      "5 X 9 = 45\n",
      "5 X 10 = 50\n",
      "5 X 11 = 55\n",
      "5 X 12 = 60\n"
     ]
    }
   ],
   "source": [
    "users = int(input(\"Input a number : \"))\n",
    "count = 0\n",
    "num = users\n",
    "while True:\n",
    "    count+= 1\n",
    "    a = num * count\n",
    "    print(f\"{num} X {count} = {a}\")\n",
    "    if count == 12:\n",
    "        break"
   ]
  },
  {
   "cell_type": "markdown",
   "id": "cd63dd99",
   "metadata": {},
   "source": [
    "### Q17\n",
    "Write a Python function to find the maximum of three numbers.\n",
    "\n",
    "**Do not use the max function**"
   ]
  },
  {
   "cell_type": "code",
   "execution_count": 17,
   "id": "78494ec2",
   "metadata": {
    "scrolled": true
   },
   "outputs": [
    {
     "name": "stdout",
     "output_type": "stream",
     "text": [
      "2,6,12,5,9,102\n",
      "Numbers in list: \n",
      "1\n"
     ]
    }
   ],
   "source": [
    "input_string = input(\"2,6,12,5,9,10\")\n",
    "number_list  = input_string.split(\",\")\n",
    "print(\"Numbers in list: \")\n",
    "\n",
    "list = []\n",
    "\n",
    "def multiply(list):\n",
    "    result = 1\n",
    "    for i in list: \n",
    "        result = result * i\n",
    "    return result\n",
    "\n",
    "print(multiply(list))"
   ]
  },
  {
   "cell_type": "markdown",
   "id": "67520c0b",
   "metadata": {},
   "source": [
    "### Q18\n",
    "Write a Python function to multiply all the numbers in a list."
   ]
  },
  {
   "cell_type": "code",
   "execution_count": 18,
   "id": "dc151c71",
   "metadata": {},
   "outputs": [
    {
     "name": "stdout",
     "output_type": "stream",
     "text": [
      "336\n"
     ]
    }
   ],
   "source": [
    "\n",
    "def multiply(numbers):  \n",
    "    total = 1\n",
    "    for x in numbers:\n",
    "        total *= x  \n",
    "    return total \n",
    "\n",
    "print(multiply((8, 2, 3, 7)))\n",
    " "
   ]
  },
  {
   "cell_type": "markdown",
   "id": "05891582",
   "metadata": {},
   "source": [
    "### Q19\n",
    "Write a Python program to reverse a string"
   ]
  },
  {
   "cell_type": "code",
   "execution_count": 19,
   "id": "fee774e1",
   "metadata": {},
   "outputs": [
    {
     "name": "stdout",
     "output_type": "stream",
     "text": [
      "The reverse of 'Benz and VW are cars' is 'srac era WV dna zneB'.\n"
     ]
    }
   ],
   "source": [
    "def reverse_wrd(wrd):\n",
    "    rev_message = \"\"\n",
    "    for i in range(len(wrd)-1, -1, -1):\n",
    "        rev_message += wrd[i]\n",
    "    return rev_message\n",
    "cars = \"Benz and VW are cars\"\n",
    "rev_cars = reverse_wrd(cars)\n",
    "print(f\"The reverse of '{cars}' is '{rev_cars}'.\")"
   ]
  },
  {
   "cell_type": "markdown",
   "id": "b9025ac8",
   "metadata": {},
   "source": [
    "### Q20\n",
    "Write a python function to return the length of a string."
   ]
  },
  {
   "cell_type": "code",
   "execution_count": 23,
   "id": "7525a327",
   "metadata": {},
   "outputs": [
    {
     "name": "stdout",
     "output_type": "stream",
     "text": [
      "13\n"
     ]
    }
   ],
   "source": [
    "def length(str):\n",
    "    print(len(str))\n",
    "        \n",
    "string =\"tasomalazaaas\"\n",
    "\n",
    "length(string)"
   ]
  },
  {
   "cell_type": "markdown",
   "id": "8d1ee176",
   "metadata": {},
   "source": [
    "# Have a lovely coding weekend"
   ]
  }
 ],
 "metadata": {
  "kernelspec": {
   "display_name": "Python 3 (ipykernel)",
   "language": "python",
   "name": "python3"
  },
  "language_info": {
   "codemirror_mode": {
    "name": "ipython",
    "version": 3
   },
   "file_extension": ".py",
   "mimetype": "text/x-python",
   "name": "python",
   "nbconvert_exporter": "python",
   "pygments_lexer": "ipython3",
   "version": "3.9.13"
  }
 },
 "nbformat": 4,
 "nbformat_minor": 5
}
