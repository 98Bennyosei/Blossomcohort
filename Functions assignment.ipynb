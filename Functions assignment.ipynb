{
 "cells": [
  {
   "cell_type": "markdown",
   "id": "352dd2e3",
   "metadata": {},
   "source": [
    "### Q1\n",
    "\n",
    "Define a python function that calculate the perimeter of the rectangle\n",
    "\n",
    "Formular\n",
    "\n",
    "formular => 2 X length + 2 X Width"
   ]
  },
  {
   "cell_type": "code",
   "execution_count": null,
   "id": "8c3b625b",
   "metadata": {},
   "outputs": [],
   "source": [
    "# take input for length and width of the rectangle from user\n",
    "width = float(input('Please enter the width of the rectangle:\\n'))\n",
    "length = float(input('Please enter the length of the rectangle:\\n'))\n",
    "\n",
    "# calculate the perimeter of a rectangle\n",
    "def perimeter(length, width):\n",
    "    return (2 * length) + (2 * width)\n",
    "\n",
    "print(f'Perimeter of the rectangle:\\n{perimeter(length, width)}')"
   ]
  },
  {
   "cell_type": "markdown",
   "id": "a56ccec8",
   "metadata": {},
   "source": [
    "### Q2\n",
    "Define the function to calculate the area of a circle. Round the answer to 3 decimal places.\n",
    "\n",
    "**Preamble**\n",
    " - Take pi as 22/7\n",
    " - formular pi x r ** 2"
   ]
  },
  {
   "cell_type": "code",
   "execution_count": null,
   "id": "67715dff",
   "metadata": {},
   "outputs": [],
   "source": [
    "# calculate the mode of b\n",
    "def mode(b):\n",
    "    return max(b, key = b.count)\n",
    "\n",
    "print(f'Mode: {mode(b)}')"
   ]
  },
  {
   "cell_type": "markdown",
   "id": "be5a6965",
   "metadata": {},
   "source": [
    "### Q3\n",
    "Define a function that takes a list of numbers and print out the **mean**, **median** and **mode**.\n",
    "\n",
    "- Test your function with the list b\n",
    "\n",
    "`b = [2,3,4,6,7,3,4,3,2,1,3]`"
   ]
  },
  {
   "cell_type": "code",
   "execution_count": 1,
   "id": "1657c7f6",
   "metadata": {},
   "outputs": [
    {
     "data": {
      "text/plain": [
       "[2, 3, 4, 6, 7, 3, 4, 3, 2, 1, 3]"
      ]
     },
     "execution_count": 1,
     "metadata": {},
     "output_type": "execute_result"
    }
   ],
   "source": [
    "b = [2,3,4,6,7,3,4,3,2,1,3]\n",
    "b"
   ]
  },
  {
   "cell_type": "code",
   "execution_count": 2,
   "id": "db55a52b",
   "metadata": {},
   "outputs": [
    {
     "name": "stdout",
     "output_type": "stream",
     "text": [
      "mean: 3.4545454545454546\n"
     ]
    }
   ],
   "source": [
    "# calculate the mean of b\n",
    "def mean(b):\n",
    "    return sum(b) / len(b)\n",
    "\n",
    "print(f'mean: {mean(b)}')"
   ]
  },
  {
   "cell_type": "code",
   "execution_count": 3,
   "id": "c3e4feb1",
   "metadata": {},
   "outputs": [
    {
     "name": "stdout",
     "output_type": "stream",
     "text": [
      "mode: 3\n"
     ]
    }
   ],
   "source": [
    "# calculate the mode of b\n",
    "def mode(b):\n",
    "    return max(b, key = b.count)\n",
    "\n",
    "print(f'mode: {mode(b)}')"
   ]
  },
  {
   "cell_type": "code",
   "execution_count": 4,
   "id": "4a735438",
   "metadata": {},
   "outputs": [
    {
     "name": "stdout",
     "output_type": "stream",
     "text": [
      "median: 3\n"
     ]
    }
   ],
   "source": [
    "# calculate the median of b\n",
    "def median(b):\n",
    "    return sorted(b)[len(b) // 2]\n",
    "\n",
    "print(f'median: {median(b)}')"
   ]
  },
  {
   "cell_type": "markdown",
   "id": "3313ab10",
   "metadata": {},
   "source": [
    "### Q4\n",
    "Define a function that prints out the list of the first 20 prime numbers"
   ]
  },
  {
   "cell_type": "code",
   "execution_count": 17,
   "id": "50431a31",
   "metadata": {},
   "outputs": [
    {
     "data": {
      "text/plain": [
       "[2, 3, 5, 7, 11, 13, 17, 19, 23, 29, 31, 37, 41, 43, 47, 53, 59, 61, 67, 71]"
      ]
     },
     "execution_count": 17,
     "metadata": {},
     "output_type": "execute_result"
    }
   ],
   "source": [
    "def prime_list(n):\n",
    "    prime = []\n",
    "    for num in range(2, n):\n",
    "        for i in range(2, num):\n",
    "            if num % i == 0:\n",
    "                break\n",
    "        else:\n",
    "            prime.append(num)\n",
    "            if len(prime) == 20:\n",
    "                break\n",
    "    return prime\n",
    "prime_list(73)"
   ]
  },
  {
   "cell_type": "markdown",
   "id": "ef1c5863",
   "metadata": {},
   "source": [
    "#### Q5\n",
    "Define a function that takes a list of strings and print out the string and the length of the string.\n",
    "\n",
    "**Example of expected output**\n",
    "\n",
    "{\"Kofi\":4,\n",
    "\"Ama\":3,\n",
    "\"Sedem\":5}"
   ]
  },
  {
   "cell_type": "code",
   "execution_count": 3,
   "id": "bbafb436",
   "metadata": {},
   "outputs": [
    {
     "data": {
      "text/plain": [
       "{'Kofi': 4, 'Ama': 3, 'Sedem': 5}"
      ]
     },
     "execution_count": 3,
     "metadata": {},
     "output_type": "execute_result"
    }
   ],
   "source": [
    "sd= [\"Kofi\", \"Ama\", \"Sedem\"]\n",
    "def dic_string_len(strs):\n",
    "    exp = {}\n",
    "    for i in strs:\n",
    "        exp.update({i: len(i)})\n",
    "    return exp\n",
    "\n",
    "    \n",
    "dic_string_len(sd)"
   ]
  },
  {
   "cell_type": "markdown",
   "id": "5072c8d8",
   "metadata": {},
   "source": [
    "### Q6\n",
    "Define a function that takes a list of strings and numbers and print out only the strings and the position of the strings.\n",
    "\n",
    "**Preamble**\n",
    "\n",
    "names = ['sedem', 'Kofi', 'kobla']\n",
    "\n",
    "**Expected Output**\n",
    "\n",
    "{'sedem': P0, 'Kofi': P1, 'kobla': P2}"
   ]
  },
  {
   "cell_type": "code",
   "execution_count": 1,
   "id": "c1391947",
   "metadata": {},
   "outputs": [
    {
     "data": {
      "text/plain": [
       "{'Sedem': 0, 'Kofi': 1, 'Kobla': 2}"
      ]
     },
     "execution_count": 1,
     "metadata": {},
     "output_type": "execute_result"
    }
   ],
   "source": [
    "lst = ['Sedem', 'Kofi', 'Kobla']\n",
    "def name_pos(pos):\n",
    "    words = {}\n",
    "    for i,j in enumerate(pos):\n",
    "        words.update({j : i})\n",
    "    return words\n",
    "\n",
    "name_pos(lst)"
   ]
  },
  {
   "cell_type": "markdown",
   "id": "5593b665",
   "metadata": {},
   "source": [
    "### Q7\n",
    "Define a function that returns whether the sum of a person age and person's date of birth equals 2023\n",
    "\n",
    "**Preamble**\n",
    "\n",
    "2001 + 22 => True\n",
    "\n",
    "2002 + 5 => False"
   ]
  },
  {
   "cell_type": "code",
   "execution_count": null,
   "id": "10b39e80",
   "metadata": {},
   "outputs": [],
   "source": [
    "age = int(input(\"enter your age:\\n\"))\n",
    "year = int(input(\"enter your birthyear:\\n\"))\n",
    "\n",
    "def decade(year):\n",
    "    if (age + year) == 2023:\n",
    "        print(\"True\")\n",
    "    else:\n",
    "        print(\"False\")\n",
    "    return age + year\n",
    "        \n",
    "    \n",
    "print(f'Sum of age and year is: {age + year} => {(age + year) == 2023}')"
   ]
  },
  {
   "cell_type": "markdown",
   "id": "f831e652",
   "metadata": {},
   "source": [
    "### Q8\n",
    "Define a function that determine whether a particular year is a **decade**, the output should be a boolean (True or False)\n"
   ]
  },
  {
   "cell_type": "code",
   "execution_count": null,
   "id": "abdec7c3",
   "metadata": {
    "scrolled": false
   },
   "outputs": [],
   "source": [
    "def decade():\n",
    "    year = int(input(\"enter any year:\\n\"))\n",
    "    if year % 10 == 0:\n",
    "        print(\"decade\")\n",
    "    else:\n",
    "        print(\"normal Year\")\n",
    " #     return decade\n",
    "    return True if year % 10 == 0 else False\n",
    "\n",
    "# print(f\"This year is: {(year % 10 == 0)}\")\n",
    "decade()"
   ]
  },
  {
   "cell_type": "markdown",
   "id": "211c19e3",
   "metadata": {},
   "source": [
    "### Q9\n",
    "Define a function that contains a list of strings and punctuations,the output should on return the list of punctuations.\n"
   ]
  },
  {
   "cell_type": "code",
   "execution_count": null,
   "id": "6f9064e7",
   "metadata": {},
   "outputs": [],
   "source": [
    "string = \"DeadPool, mArvel, no OsCARS.\"\n",
    "def remove_punct(string):\n",
    "    results = \"\"\n",
    "    for char in string:\n",
    "        if not char.isalpha():\n",
    "            results = results + char\n",
    "    return results\n",
    "\n",
    "remove_punct(string)"
   ]
  },
  {
   "cell_type": "markdown",
   "id": "34bae9ec",
   "metadata": {},
   "source": [
    "### Q10\n",
    "\n",
    "Define a lambda function that print out the cubic root of a list of numbers"
   ]
  },
  {
   "cell_type": "code",
   "execution_count": null,
   "id": "7de4d745",
   "metadata": {},
   "outputs": [],
   "source": [
    "cube = [1, 8, 27, 64, 125, 320]\n",
    "cubic_root_lambda = lambda x: round((x**(1/3)),3)\n",
    "print(list(map(cubic_root_lambda, cube)))"
   ]
  },
  {
   "cell_type": "markdown",
   "id": "37974632",
   "metadata": {},
   "source": [
    "### Q11\n",
    "Define a lambda function that print out the cube of a list of numbers"
   ]
  },
  {
   "cell_type": "code",
   "execution_count": null,
   "id": "c45b59cb",
   "metadata": {},
   "outputs": [],
   "source": [
    "cube = [1, 8, 27, 64, 125]\n",
    "cubic_root_lambda = lambda x: round((x**(1/3)),3)\n",
    "print(list(map(cubic_root_lambda, cube)))"
   ]
  },
  {
   "cell_type": "markdown",
   "id": "b1522dbb",
   "metadata": {},
   "source": [
    "### Q12\n",
    "Define a function that take a list of list of numbers and return a list that contains the average of each sublist using map."
   ]
  },
  {
   "cell_type": "code",
   "execution_count": 1,
   "id": "cf4158b0",
   "metadata": {},
   "outputs": [
    {
     "name": "stdout",
     "output_type": "stream",
     "text": [
      "[2.0, 5.0, 8.0, 11.0]\n"
     ]
    }
   ],
   "source": [
    "list_num = [[1, 2, 3], [4, 5, 6], [7, 8, 9], [10,11,12]]\n",
    "sublist_avg = lambda x: sum(x)/len(x)\n",
    "print(list(map(sublist_avg, list_num)))"
   ]
  },
  {
   "cell_type": "markdown",
   "id": "0fd5cd06",
   "metadata": {},
   "source": [
    "### Q13\n",
    "Define a function that takes a list of strings and filter out strings that are upper case."
   ]
  },
  {
   "cell_type": "code",
   "execution_count": 4,
   "id": "5b351aa4",
   "metadata": {},
   "outputs": [
    {
     "data": {
      "text/plain": [
       "'NOEXIST'"
      ]
     },
     "execution_count": 4,
     "metadata": {},
     "output_type": "execute_result"
    }
   ],
   "source": [
    "string = \"NO EXIST, use, staircase.\"\n",
    "def remove_uppercase(string):\n",
    "    results = \"\"\n",
    "    for char in string:\n",
    "        if char.isupper():\n",
    "            results = results + char\n",
    "    return results\n",
    "\n",
    "remove_uppercase(string)"
   ]
  },
  {
   "cell_type": "markdown",
   "id": "d0dddd17",
   "metadata": {},
   "source": [
    "### Q14\n",
    "Define a function that takes a list of numbers and print out the numbers which are prime in the list."
   ]
  },
  {
   "cell_type": "code",
   "execution_count": 1,
   "id": "3e99b9c3",
   "metadata": {},
   "outputs": [
    {
     "name": "stdout",
     "output_type": "stream",
     "text": [
      "2\n",
      "3\n",
      "5\n",
      "7\n"
     ]
    }
   ],
   "source": [
    "def prime_nums(numbers):\n",
    "    for num in numbers:\n",
    "        if num > 1:\n",
    "            for i in range(2,num):\n",
    "                if (num %i) == 0:\n",
    "                    break\n",
    "            else:\n",
    "                print(num)\n",
    "prime_lts = [1, 2, 3, 4, 5, 6, 7, 8, 9, 10,22]\n",
    "prime_nums(prime_lts)"
   ]
  },
  {
   "cell_type": "markdown",
   "id": "240741dc",
   "metadata": {},
   "source": [
    "### Q15\n",
    "Define a function that take a list of strings and return a zip of each string and length of a string."
   ]
  },
  {
   "cell_type": "code",
   "execution_count": 4,
   "id": "71b469d2",
   "metadata": {},
   "outputs": [
    {
     "name": "stdout",
     "output_type": "stream",
     "text": [
      "('NO', 2)\n",
      "('EXIST', 5)\n",
      "('use', 3)\n",
      "('staircase', 9)\n"
     ]
    }
   ],
   "source": [
    "\n",
    "\n",
    "def zip_strings_and_lengths(str):\n",
    "    return zip(str, map(len, str))\n",
    "str = [\"NO\", \"EXIST\", \"use\", \"staircase\"]\n",
    "zipped = zip_strings_and_lengths(str)\n",
    "\n",
    "for pair in zipped:\n",
    "    print(pair)"
   ]
  },
  {
   "cell_type": "markdown",
   "id": "44a1339f",
   "metadata": {},
   "source": [
    "### Q16\n",
    "Define a function that takes in a number and return the first 12 multiples of the the number.\n",
    "\n",
    "Expected Output\n",
    "\n",
    "2 X 1 = 2\n",
    "\n",
    "to\n",
    "\n",
    "2 X 12 = 24"
   ]
  },
  {
   "cell_type": "code",
   "execution_count": 2,
   "id": "a3c89962",
   "metadata": {
    "scrolled": false
   },
   "outputs": [
    {
     "name": "stdout",
     "output_type": "stream",
     "text": [
      "Input a number : 6\n",
      "6 X 1 = 6\n",
      "6 X 2 = 12\n",
      "6 X 3 = 18\n",
      "6 X 4 = 24\n",
      "6 X 5 = 30\n",
      "6 X 6 = 36\n",
      "6 X 7 = 42\n",
      "6 X 8 = 48\n",
      "6 X 9 = 54\n",
      "6 X 10 = 60\n",
      "6 X 11 = 66\n",
      "6 X 12 = 72\n"
     ]
    }
   ],
   "source": [
    "users = int(input(\"Input a number : \"))\n",
    "count = 0\n",
    "num = users\n",
    "while True:\n",
    "    count+= 1\n",
    "    a = num * count\n",
    "    print(f\"{num} X {count} = {a}\")\n",
    "    if count == 12:\n",
    "        break"
   ]
  },
  {
   "cell_type": "markdown",
   "id": "cd63dd99",
   "metadata": {},
   "source": [
    "### Q17\n",
    "Write a Python function to find the maximum of three numbers.\n",
    "\n",
    "**Do not use the max function**"
   ]
  },
  {
   "cell_type": "code",
   "execution_count": null,
   "id": "d3a7318c",
   "metadata": {
    "scrolled": true
   },
   "outputs": [],
   "source": [
    "a = int(input(\"enter first number:\\n\"))\n",
    "b = int(input(\"enter second number:\\n\"))\n",
    "c = int(input(\"enter third number:\\n\"))\n",
    "\n",
    "def max_number(m, n, o):\n",
    "    return max(m, n, o)\n",
    "\n",
    "max_number(m,n,o)"
   ]
  },
  {
   "cell_type": "markdown",
   "id": "67520c0b",
   "metadata": {},
   "source": [
    "### Q18\n",
    "Write a Python function to multiply all the numbers in a list."
   ]
  },
  {
   "cell_type": "code",
   "execution_count": 2,
   "id": "bc763b9f",
   "metadata": {},
   "outputs": [
    {
     "name": "stdout",
     "output_type": "stream",
     "text": [
      "336\n"
     ]
    }
   ],
   "source": [
    "\n",
    "def multiply(numbers):  \n",
    "    total = 1\n",
    "    for x in numbers:\n",
    "        total *= x  \n",
    "    return total \n",
    "\n",
    "print(multiply((8, 2, 3, 7)))\n",
    " "
   ]
  },
  {
   "cell_type": "markdown",
   "id": "05891582",
   "metadata": {},
   "source": [
    "### Q19\n",
    "Write a Python program to reverse a string"
   ]
  },
  {
   "cell_type": "code",
   "execution_count": 15,
   "id": "1d899551",
   "metadata": {},
   "outputs": [
    {
     "name": "stdout",
     "output_type": "stream",
     "text": [
      "The reverse of 'Benz and VW are cars' is 'srac era WV dna zneB'.\n"
     ]
    }
   ],
   "source": [
    "def reverse_wrd(wrd):\n",
    "    rev_message = \"\"\n",
    "    for i in range(len(wrd)-1, -1, -1):\n",
    "        rev_message += wrd[i]\n",
    "    return rev_message\n",
    "cars = \"Benz and VW are cars\"\n",
    "rev_cars = reverse_wrd(cars)\n",
    "print(f\"The reverse of '{cars}' is '{rev_cars}'.\")"
   ]
  },
  {
   "cell_type": "markdown",
   "id": "b9025ac8",
   "metadata": {},
   "source": [
    "### Q20\n",
    "Write a python function to return the length of a string."
   ]
  },
  {
   "cell_type": "code",
   "execution_count": null,
   "id": "4ce17290",
   "metadata": {},
   "outputs": [],
   "source": [
    "sentence = input('Please key in  a word: ')\n",
    "\n",
    "def length(sentence):\n",
    "    count = 0\n",
    "    for char in sentence:\n",
    "        count += 1\n",
    "    return count\n",
    "\n",
    "print(f'{length(sentence)} is the length of the sentence.')"
   ]
  },
  {
   "cell_type": "markdown",
   "id": "8d1ee176",
   "metadata": {},
   "source": [
    "Have a lovely coding weekend"
   ]
  }
 ],
 "metadata": {
  "kernelspec": {
   "display_name": "Python 3 (ipykernel)",
   "language": "python",
   "name": "python3"
  },
  "language_info": {
   "codemirror_mode": {
    "name": "ipython",
    "version": 3
   },
   "file_extension": ".py",
   "mimetype": "text/x-python",
   "name": "python",
   "nbconvert_exporter": "python",
   "pygments_lexer": "ipython3",
   "version": "3.9.13"
  }
 },
 "nbformat": 4,
 "nbformat_minor": 5
}
