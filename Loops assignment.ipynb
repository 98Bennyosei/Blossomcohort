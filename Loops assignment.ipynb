{
 "cells": [
  {
   "cell_type": "markdown",
   "id": "c981861e",
   "metadata": {},
   "source": [
    "# Q1\n",
    "Write a code to display a list of the first 12 multiples of 8 using a for loop\n"
   ]
  },
  {
   "cell_type": "code",
   "execution_count": null,
   "id": "0e923321",
   "metadata": {},
   "outputs": [],
   "source": [
    "multiples_eight = []\n",
    "\n",
    "for i in range(1,13):\n",
    "    i = i*8\n",
    "    multiples_eight.append(i)\n",
    "    \n",
    "multiples_eight"
   ]
  },
  {
   "cell_type": "markdown",
   "id": "d9f7d0f9",
   "metadata": {},
   "source": [
    "# Q2\n",
    "Write the code to print sum of all even numbers from 1 to 201"
   ]
  },
  {
   "cell_type": "code",
   "execution_count": null,
   "id": "68567a90",
   "metadata": {},
   "outputs": [],
   "source": [
    "even_num=[]\n",
    "for e in range(1,202):\n",
    "    if e%2==0:\n",
    "        even_num.append(e)\n",
    "       \n",
    "sum(even_num)"
   ]
  },
  {
   "cell_type": "code",
   "execution_count": null,
   "id": "c54ca906",
   "metadata": {},
   "outputs": [],
   "source": [
    "even = 0\n",
    "for num in range(0,201,2):\n",
    "    even += num\n",
    "\n",
    "even"
   ]
  },
  {
   "cell_type": "markdown",
   "id": "4f0f12d7",
   "metadata": {},
   "source": [
    "# Q3\n",
    "`my_list = [3, 5, 7, 12, 41]`\n",
    "\n",
    "Write the code to display the list of the squares of each number in my list\n",
    "\n",
    "- Without using list comprehension\n",
    "- Using list comprehension\n"
   ]
  },
  {
   "cell_type": "code",
   "execution_count": null,
   "id": "4b6e5026",
   "metadata": {},
   "outputs": [],
   "source": [
    "my_list = [3, 5, 7, 12, 41]\n",
    "\n",
    "answer_list=[]\n",
    "\n",
    "for num in my_list:\n",
    "    answer_list.append(num**2)\n",
    "\n",
    "answer_list"
   ]
  },
  {
   "cell_type": "code",
   "execution_count": null,
   "id": "d6e3f35b",
   "metadata": {},
   "outputs": [],
   "source": [
    "answer_lst = [num**2 for num in my_list]\n",
    "\n",
    "answer_lst"
   ]
  },
  {
   "cell_type": "markdown",
   "id": "28bed149",
   "metadata": {},
   "source": [
    "# Q4\n",
    "`my_list1 = [3, 53,47, 22, 53, 78, 12, 41]`\n",
    "\n",
    "Calculate the average of my_list1\n",
    "\n",
    "- Without using sum and len fucnctions\n",
    "- Using sum and len functions\n"
   ]
  },
  {
   "cell_type": "code",
   "execution_count": null,
   "id": "ab862185",
   "metadata": {},
   "outputs": [],
   "source": [
    "#without using sum and len functions\n",
    "my_list1 = [3, 53,47, 22, 53, 78, 12, 41]\n",
    "\n",
    "sumx = 0\n",
    "count = 0\n",
    "\n",
    "for num in my_list1:\n",
    "    sumx += num\n",
    "    count += 1\n",
    "average = sumx/count\n",
    "\n",
    "average"
   ]
  },
  {
   "cell_type": "code",
   "execution_count": null,
   "id": "8a2482c8",
   "metadata": {},
   "outputs": [],
   "source": [
    "#Using sum and len functions\n",
    "my_list1 = [3, 53, 47, 22, 53, 78, 12, 41]\n",
    "\n",
    "sum(my_list1)/len(my_list1)"
   ]
  },
  {
   "cell_type": "markdown",
   "id": "38c1ddff",
   "metadata": {},
   "source": [
    "# Q4\n",
    "\n",
    "Write a Python program to guess a number between 1 and 9.\n",
    "User is prompted to enter a guess. If the user guesses wrong then the prompt appears again until the guess is correct, on successful guess, user will get a \"Well guessed!\" message, and the program will exit."
   ]
  },
  {
   "cell_type": "code",
   "execution_count": null,
   "id": "5cd286ca",
   "metadata": {},
   "outputs": [],
   "source": [
    "# Set the secret number\n",
    "number = 7\n",
    "\n",
    "\n",
    "guess = int(input(\"Guess a number between 1 and 9: \"))\n",
    "\n",
    "while guess != number:\n",
    "    guess = int(input(\"Guess a number between 1 and 9: \"))\n",
    "\n",
    "print(\"Well guessed!\")"
   ]
  },
  {
   "cell_type": "markdown",
   "id": "f5c02baa",
   "metadata": {},
   "source": [
    "# Q5\n",
    "Write a Python program to construct the following pattern.\n",
    "\n",
    "`*` \n",
    "\n",
    "`* *` \n",
    "\n",
    "`* * *` \n",
    "\n",
    "`* * * *` \n",
    "\n",
    "`* * * * *`"
   ]
  },
  {
   "cell_type": "code",
   "execution_count": null,
   "id": "61a3f5f2",
   "metadata": {},
   "outputs": [],
   "source": [
    "for i in range(1,6):\n",
    "    print(\"*\"*i)"
   ]
  },
  {
   "cell_type": "markdown",
   "id": "e85d94df",
   "metadata": {},
   "source": [
    "# Q6\n",
    "\n",
    "Write a Python program that accepts a word from the user and reverses it."
   ]
  },
  {
   "cell_type": "code",
   "execution_count": null,
   "id": "895e61f1",
   "metadata": {},
   "outputs": [],
   "source": [
    "user= input('Enter word: ')\n",
    "reverse_word = user[::-1]\n",
    "print(reverse_word)"
   ]
  },
  {
   "cell_type": "markdown",
   "id": "5fe06511",
   "metadata": {},
   "source": [
    "# Q7\n",
    "Write a Python program that accepts a word from the user and reverses it."
   ]
  },
  {
   "cell_type": "code",
   "execution_count": null,
   "id": "7510071b",
   "metadata": {},
   "outputs": [],
   "source": [
    "user= input('Enter word: ')\n",
    "reverse_word = user[::-1]\n",
    "print(reverse_word)"
   ]
  },
  {
   "cell_type": "markdown",
   "id": "5a99d4b3",
   "metadata": {},
   "source": [
    "# Q8\n",
    "\n",
    "`lst = [3,4,5,4,7,8,5,8,3,6,8,9,11]`\n",
    "\n",
    "Write a Python program to count the number of even and odd numbers in the above list of numbers.\n",
    "\n",
    "**Expected output should be in this format**\n",
    "\n",
    "{\"Even\" : num_of_even, \"Odd\": num_of_odd}"
   ]
  },
  {
   "cell_type": "markdown",
   "id": "c92b54f9",
   "metadata": {},
   "source": [
    "# Q9\n",
    " Write a Python program that iterates the integers from 1 to 50. For multiples of three print \"Fizz\" instead of the number and for multiples of five print \"Buzz\". For numbers that are multiples of three and five, print \"FizzBuzz\".\n",
    "Sample Output :\n",
    "1\n",
    "\n",
    "2\n",
    "\n",
    "fizz\n",
    "\n",
    "4\n",
    "\n",
    "buzz"
   ]
  },
  {
   "cell_type": "code",
   "execution_count": null,
   "id": "8461e5b0",
   "metadata": {},
   "outputs": [],
   "source": [
    "for i in range(1,50):\n",
    "    if i % 15 == 0:\n",
    "        print (\"FizzBuzz\")\n",
    "    elif i % 5 == 0:\n",
    "        print (\"Buzz\")\n",
    "    elif i % 3 == 0:\n",
    "        print(\"Fizz\")\n",
    "    else:\n",
    "        print(i)\n",
    "            "
   ]
  },
  {
   "cell_type": "markdown",
   "id": "8d3505cf",
   "metadata": {},
   "source": [
    "# Q10\n",
    " Write a Python program to find the median of three values inputs from the user"
   ]
  },
  {
   "cell_type": "code",
   "execution_count": null,
   "id": "8686619a",
   "metadata": {},
   "outputs": [],
   "source": [
    "for i in range(1,50):\n",
    "    if i % 15 == 0:\n",
    "        print (\"FizzBuzz\")\n",
    "    elif i % 5 == 0:\n",
    "        print (\"Buzz\")\n",
    "    elif i % 3 == 0:\n",
    "        print(\"Fizz\")\n",
    "    else:\n",
    "        print(i)\n",
    "            "
   ]
  },
  {
   "cell_type": "markdown",
   "id": "9ef4f8a2",
   "metadata": {},
   "source": [
    "# Q11\n",
    "Write a Python program to calculate the sum and average of n integer numbers (input from the user). Input 0 to finish."
   ]
  },
  {
   "cell_type": "code",
   "execution_count": null,
   "id": "177cc09f",
   "metadata": {},
   "outputs": [],
   "source": [
    "while True:\n",
    "    numbers = int(input(\"Enter a number or enter 0 to exit: \"))\n",
    "    \n",
    "    if numbers == 0:\n",
    "        print(\"Goodbye!!!\")\n",
    "        break\n",
    "    \n",
    "    total = 0\n",
    "    for x in range(numbers):\n",
    "        num = int(input(\"Enter a number: \"))\n",
    "        total = total + num\n",
    "        \n",
    "    print({\"Sum:\":total})\n",
    "    print({\"Average:\":total/numbers})"
   ]
  },
  {
   "cell_type": "markdown",
   "id": "45f5c335",
   "metadata": {},
   "source": [
    "# Q12\n",
    " Write a Python program to create the multiplication table (from 1 to 12) of a number input from a user.\n",
    " \n",
    " Expected Output:\n",
    "\n",
    "Input a number: 6                                                       \n",
    "6 x 1 = 6                                                               \n",
    "6 x 2 = 12                                                              \n",
    "6 x 3 = 18                                                              \n",
    "6 x 4 = 24                                                              \n",
    "6 x 5 = 30                                                              \n",
    "6 x 6 = 36                                                              \n",
    "6 x 7 = 42                                                              \n",
    "6 x 8 = 48                                                              \n",
    "6 x 9 = 54                                                              \n",
    "6 x 10 = 60 \n",
    "\n",
    "6 x 11 = 66\n",
    "\n",
    "6 x 12 = 72"
   ]
  },
  {
   "cell_type": "code",
   "execution_count": null,
   "id": "45d87310",
   "metadata": {},
   "outputs": [],
   "source": [
    "num=int(input(\"Enter number: \"))\n",
    "\n",
    "for i in range(1,13):\n",
    "    print(f\"{num} x {i} = {num * i}\")\n"
   ]
  },
  {
   "cell_type": "markdown",
   "id": "8cc97048",
   "metadata": {},
   "source": [
    "# Q13\n",
    "Write a Python program to construct the following pattern\n",
    "\n",
    "1\n",
    "\n",
    "22\n",
    "\n",
    "333\n",
    "\n",
    "4444\n",
    "\n",
    "55555\n",
    "\n",
    "666666\n",
    "\n",
    "7777777\n",
    "\n",
    "88888888\n",
    "\n",
    "999999999"
   ]
  },
  {
   "cell_type": "code",
   "execution_count": null,
   "id": "d855eb83",
   "metadata": {},
   "outputs": [],
   "source": [
    "for num in range(1, 10):\n",
    "    print(str(num) * num)\n",
    "    print()"
   ]
  },
  {
   "cell_type": "markdown",
   "id": "adef967a",
   "metadata": {},
   "source": [
    "# Q14\n",
    "Print sum of all odd numbers from 10 to 50"
   ]
  },
  {
   "cell_type": "markdown",
   "id": "1642ec1a",
   "metadata": {},
   "source": [
    "# Q15\n",
    "\n",
    "`my_list = [25, 100, 121, 400, 81]`\n",
    "\n",
    "Write the code to display the list of the square root of each number in my list\n",
    "\n",
    "- Without using list comprehension\n",
    "- Using list comprehension"
   ]
  },
  {
   "cell_type": "code",
   "execution_count": null,
   "id": "d0113129",
   "metadata": {},
   "outputs": [],
   "source": [
    "#Without list comprehension\n",
    "my_list = [25, 100, 121, 400, 81]\n",
    "\n",
    "ans_list=[]\n",
    "\n",
    "for num in my_list:\n",
    "    ans_list.append(num**0.5)\n",
    "\n",
    "ans_list"
   ]
  },
  {
   "cell_type": "code",
   "execution_count": null,
   "id": "be3f0615",
   "metadata": {},
   "outputs": [],
   "source": [
    "#With list comprehension\n",
    "ans_list = [num**0.5 for num in my_list]\n",
    "\n",
    "ans_list"
   ]
  },
  {
   "cell_type": "code",
   "execution_count": null,
   "id": "eb36d564",
   "metadata": {},
   "outputs": [],
   "source": []
  },
  {
   "cell_type": "code",
   "execution_count": null,
   "id": "97bdcc7c",
   "metadata": {},
   "outputs": [],
   "source": []
  },
  {
   "cell_type": "code",
   "execution_count": null,
   "id": "bf07dea5",
   "metadata": {},
   "outputs": [],
   "source": []
  }
 ],
 "metadata": {
  "kernelspec": {
   "display_name": "Python 3 (ipykernel)",
   "language": "python",
   "name": "python3"
  },
  "language_info": {
   "codemirror_mode": {
    "name": "ipython",
    "version": 3
   },
   "file_extension": ".py",
   "mimetype": "text/x-python",
   "name": "python",
   "nbconvert_exporter": "python",
   "pygments_lexer": "ipython3",
   "version": "3.9.13"
  }
 },
 "nbformat": 4,
 "nbformat_minor": 5
}
