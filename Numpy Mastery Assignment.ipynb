{
 "cells": [
  {
   "cell_type": "markdown",
   "id": "c0561a04",
   "metadata": {},
   "source": [
    "### Numpy Mastery Assignment\n",
    "- Answer all questions\n",
    "- Submission : 20th September 2022"
   ]
  },
  {
   "cell_type": "code",
   "execution_count": 2,
   "id": "d9124652",
   "metadata": {},
   "outputs": [],
   "source": [
    "import numpy as np\n"
   ]
  },
  {
   "cell_type": "markdown",
   "id": "e04a249e",
   "metadata": {},
   "source": [
    "1. Create a 1D array of numbers from 0 to 9"
   ]
  },
  {
   "cell_type": "code",
   "execution_count": 3,
   "id": "4d842ba6",
   "metadata": {},
   "outputs": [
    {
     "data": {
      "text/plain": [
       "array([0, 1, 2, 3, 4, 5, 6, 7, 8, 9])"
      ]
     },
     "execution_count": 3,
     "metadata": {},
     "output_type": "execute_result"
    }
   ],
   "source": [
    "numbers = np.arange(0,10)\n",
    "numbers"
   ]
  },
  {
   "cell_type": "markdown",
   "id": "f3b8a05e",
   "metadata": {},
   "source": [
    "2. Create a 3x3 numpy of all True "
   ]
  },
  {
   "cell_type": "code",
   "execution_count": 4,
   "id": "b91bc602",
   "metadata": {},
   "outputs": [
    {
     "data": {
      "text/plain": [
       "array([[ True,  True,  True],\n",
       "       [ True,  True,  True],\n",
       "       [ True,  True,  True]])"
      ]
     },
     "execution_count": 4,
     "metadata": {},
     "output_type": "execute_result"
    }
   ],
   "source": [
    "true_three = np.full((3,3), True)\n",
    "true_three"
   ]
  },
  {
   "cell_type": "markdown",
   "id": "9bf76467",
   "metadata": {},
   "source": [
    "3. Create an array of numbers from 20 to 39"
   ]
  },
  {
   "cell_type": "code",
   "execution_count": 2,
   "id": "99237fbb",
   "metadata": {},
   "outputs": [
    {
     "data": {
      "text/plain": [
       "array([20, 21, 22, 23, 24, 25, 26, 27, 28, 29, 30, 31, 32, 33, 34, 35, 36,\n",
       "       37, 38, 39])"
      ]
     },
     "execution_count": 2,
     "metadata": {},
     "output_type": "execute_result"
    }
   ],
   "source": [
    "arr_1 = np.arange(20,40)\n",
    "arr_1"
   ]
  },
  {
   "cell_type": "markdown",
   "id": "c68a12af",
   "metadata": {},
   "source": [
    "4. Replace all odd numbers in Q3 by -1"
   ]
  },
  {
   "cell_type": "code",
   "execution_count": 5,
   "id": "1b7df6e1",
   "metadata": {},
   "outputs": [
    {
     "data": {
      "text/plain": [
       "array([20, -1, 22, -1, 24, -1, 26, -1, 28, -1, 30, -1, 32, -1, 34, -1, 36,\n",
       "       -1, 38, -1])"
      ]
     },
     "execution_count": 5,
     "metadata": {},
     "output_type": "execute_result"
    }
   ],
   "source": [
    "arr_1 = np.arange(20,40)\n",
    "arr_1[arr_1%2 != 0] =-1\n",
    "arr_1"
   ]
  },
  {
   "cell_type": "markdown",
   "id": "6bb94688",
   "metadata": {},
   "source": [
    "5. Create two arrays of length 10 and print out  common items in both arrays"
   ]
  },
  {
   "cell_type": "code",
   "execution_count": 11,
   "id": "3f8d0993",
   "metadata": {},
   "outputs": [
    {
     "name": "stdout",
     "output_type": "stream",
     "text": [
      "{20, 30}\n"
     ]
    }
   ],
   "source": [
    "arr_2 = np.arange(10,60,5)\n",
    "arr_2\n",
    "\n",
    "arr_3 = np.arange(20,40,2)\n",
    "arr_3\n",
    "\n",
    "common_values = set(arr_2).intersection(arr_3)\n",
    "print(common_values)"
   ]
  },
  {
   "cell_type": "markdown",
   "id": "c4b172be",
   "metadata": {},
   "source": [
    "6.  Create a 5x5 identity matrix"
   ]
  },
  {
   "cell_type": "code",
   "execution_count": 12,
   "id": "6bec60fd",
   "metadata": {},
   "outputs": [],
   "source": [
    "arr_4 = np.identity(5)"
   ]
  },
  {
   "cell_type": "code",
   "execution_count": 13,
   "id": "2fe8f5c6",
   "metadata": {},
   "outputs": [
    {
     "data": {
      "text/plain": [
       "array([[1., 0., 0., 0., 0.],\n",
       "       [0., 1., 0., 0., 0.],\n",
       "       [0., 0., 1., 0., 0.],\n",
       "       [0., 0., 0., 1., 0.],\n",
       "       [0., 0., 0., 0., 1.]])"
      ]
     },
     "execution_count": 13,
     "metadata": {},
     "output_type": "execute_result"
    }
   ],
   "source": [
    "arr_4"
   ]
  },
  {
   "cell_type": "markdown",
   "id": "0faa0eca",
   "metadata": {},
   "source": [
    "7. In the code cell below define and print a set of arrays defined x, y and z. The array x should be take the form [10 12 9 2 20], y should have  101  values from  10  to  20  inclusive and z should be a  2×3  array of ones."
   ]
  },
  {
   "cell_type": "code",
   "execution_count": 15,
   "id": "6f994603",
   "metadata": {},
   "outputs": [],
   "source": [
    "x = np.array([[10,12,9,2,20]])\n",
    "x\n"
   ]
  },
  {
   "cell_type": "code",
   "execution_count": 16,
   "id": "e2038959",
   "metadata": {},
   "outputs": [
    {
     "data": {
      "text/plain": [
       "array([[10, 12,  9,  2, 20]])"
      ]
     },
     "execution_count": 16,
     "metadata": {},
     "output_type": "execute_result"
    }
   ],
   "source": [
    "x"
   ]
  },
  {
   "cell_type": "code",
   "execution_count": 17,
   "id": "95a31fb1",
   "metadata": {},
   "outputs": [
    {
     "data": {
      "text/plain": [
       "array([10. , 10.1, 10.2, 10.3, 10.4, 10.5, 10.6, 10.7, 10.8, 10.9, 11. ,\n",
       "       11.1, 11.2, 11.3, 11.4, 11.5, 11.6, 11.7, 11.8, 11.9, 12. , 12.1,\n",
       "       12.2, 12.3, 12.4, 12.5, 12.6, 12.7, 12.8, 12.9, 13. , 13.1, 13.2,\n",
       "       13.3, 13.4, 13.5, 13.6, 13.7, 13.8, 13.9, 14. , 14.1, 14.2, 14.3,\n",
       "       14.4, 14.5, 14.6, 14.7, 14.8, 14.9, 15. , 15.1, 15.2, 15.3, 15.4,\n",
       "       15.5, 15.6, 15.7, 15.8, 15.9, 16. , 16.1, 16.2, 16.3, 16.4, 16.5,\n",
       "       16.6, 16.7, 16.8, 16.9, 17. , 17.1, 17.2, 17.3, 17.4, 17.5, 17.6,\n",
       "       17.7, 17.8, 17.9, 18. , 18.1, 18.2, 18.3, 18.4, 18.5, 18.6, 18.7,\n",
       "       18.8, 18.9, 19. , 19.1, 19.2, 19.3, 19.4, 19.5, 19.6, 19.7, 19.8,\n",
       "       19.9, 20. ])"
      ]
     },
     "execution_count": 17,
     "metadata": {},
     "output_type": "execute_result"
    }
   ],
   "source": [
    "y =np.linspace(10,20,101)\n",
    "y"
   ]
  },
  {
   "cell_type": "code",
   "execution_count": 20,
   "id": "c71a9df3",
   "metadata": {},
   "outputs": [
    {
     "data": {
      "text/plain": [
       "array([[1., 1., 1.],\n",
       "       [1., 1., 1.]])"
      ]
     },
     "execution_count": 20,
     "metadata": {},
     "output_type": "execute_result"
    }
   ],
   "source": [
    "z = np.ones((2,3))\n",
    "z"
   ]
  },
  {
   "cell_type": "markdown",
   "id": "76aaeb7c",
   "metadata": {},
   "source": [
    "8.Using the available Numpy functions on array x from problem  7 , find the average and the standard deviation of the value in this array. Redefine x as an array with all these values sorted in numerical order."
   ]
  },
  {
   "cell_type": "code",
   "execution_count": 21,
   "id": "a185a15c",
   "metadata": {},
   "outputs": [
    {
     "data": {
      "text/plain": [
       "array([[10, 12,  9,  2, 20]])"
      ]
     },
     "execution_count": 21,
     "metadata": {},
     "output_type": "execute_result"
    }
   ],
   "source": [
    "x = np.array([[10,12,9,2,20]])\n",
    "x"
   ]
  },
  {
   "cell_type": "code",
   "execution_count": 22,
   "id": "eead0173",
   "metadata": {},
   "outputs": [
    {
     "data": {
      "text/plain": [
       "10.6"
      ]
     },
     "execution_count": 22,
     "metadata": {},
     "output_type": "execute_result"
    }
   ],
   "source": [
    "np.mean(x)\n"
   ]
  },
  {
   "cell_type": "code",
   "execution_count": 23,
   "id": "64db160c",
   "metadata": {},
   "outputs": [
    {
     "data": {
      "text/plain": [
       "5.782732917920384"
      ]
     },
     "execution_count": 23,
     "metadata": {},
     "output_type": "execute_result"
    }
   ],
   "source": [
    "np.std(x)"
   ]
  },
  {
   "cell_type": "code",
   "execution_count": 24,
   "id": "368b61c3",
   "metadata": {},
   "outputs": [
    {
     "data": {
      "text/plain": [
       "array([[ 2,  9, 10, 12, 20]])"
      ]
     },
     "execution_count": 24,
     "metadata": {},
     "output_type": "execute_result"
    }
   ],
   "source": [
    "np.sort(x)"
   ]
  },
  {
   "cell_type": "markdown",
   "id": "1b592987",
   "metadata": {},
   "source": [
    "9. Create a 10x10 array with random values and find the minimum and maximum values"
   ]
  },
  {
   "cell_type": "code",
   "execution_count": 31,
   "id": "c408ea96",
   "metadata": {},
   "outputs": [
    {
     "data": {
      "text/plain": [
       "array([[33, 79, 50, 81, 42, 43, 86, 40, 83, 91],\n",
       "       [39, 60,  7, 95, 94, 51, 92, 64, 98, 52],\n",
       "       [33, 27, 92, 60, 10, 55,  4, 26, 98, 41],\n",
       "       [83, 91, 18, 86, 88, 14, 96, 41, 13,  1],\n",
       "       [76, 66, 50, 26, 84, 36,  3, 43, 67, 69],\n",
       "       [59, 25, 75,  4, 57, 64, 93, 15,  3, 43],\n",
       "       [ 7, 85, 64, 98, 97, 97,  6, 44, 51, 15],\n",
       "       [46, 85, 85, 49, 30,  5, 85, 78, 97, 56],\n",
       "       [31, 32, 87, 10, 48, 53,  7, 34, 19, 89],\n",
       "       [77, 58,  8, 55, 40, 12, 49, 89,  6, 91]])"
      ]
     },
     "execution_count": 31,
     "metadata": {},
     "output_type": "execute_result"
    }
   ],
   "source": [
    "arr_5 = np.random.randint(100,size=(10,10))\n",
    "arr_5"
   ]
  },
  {
   "cell_type": "code",
   "execution_count": 32,
   "id": "718ccc16",
   "metadata": {},
   "outputs": [
    {
     "data": {
      "text/plain": [
       "98"
      ]
     },
     "execution_count": 32,
     "metadata": {},
     "output_type": "execute_result"
    }
   ],
   "source": [
    "np.max(arr_5)"
   ]
  },
  {
   "cell_type": "code",
   "execution_count": 33,
   "id": "04170f52",
   "metadata": {},
   "outputs": [
    {
     "data": {
      "text/plain": [
       "1"
      ]
     },
     "execution_count": 33,
     "metadata": {},
     "output_type": "execute_result"
    }
   ],
   "source": [
    "np.min(arr_5)"
   ]
  },
  {
   "cell_type": "markdown",
   "id": "4e3bcb2c",
   "metadata": {},
   "source": [
    "10. Create a 3x3 matrix with values ranging from 0 to 8"
   ]
  },
  {
   "cell_type": "code",
   "execution_count": 36,
   "id": "98a55b5e",
   "metadata": {},
   "outputs": [
    {
     "data": {
      "text/plain": [
       "array([0, 1, 2, 3, 4, 5, 6, 7, 8])"
      ]
     },
     "execution_count": 36,
     "metadata": {},
     "output_type": "execute_result"
    }
   ],
   "source": [
    "arr_4 =np.arange(0,9)\n",
    "arr_4"
   ]
  },
  {
   "cell_type": "code",
   "execution_count": 37,
   "id": "34dd8014",
   "metadata": {},
   "outputs": [
    {
     "data": {
      "text/plain": [
       "array([[0, 1, 2],\n",
       "       [3, 4, 5],\n",
       "       [6, 7, 8]])"
      ]
     },
     "execution_count": 37,
     "metadata": {},
     "output_type": "execute_result"
    }
   ],
   "source": [
    "np.reshape(arr_4,(3,3))"
   ]
  },
  {
   "cell_type": "markdown",
   "id": "21052f20",
   "metadata": {},
   "source": [
    "11.  Generates an array [[1 2 3] [4 5 6]]"
   ]
  },
  {
   "cell_type": "code",
   "execution_count": 38,
   "id": "1544544d",
   "metadata": {},
   "outputs": [
    {
     "data": {
      "text/plain": [
       "array([[1, 2, 3],\n",
       "       [4, 5, 6]])"
      ]
     },
     "execution_count": 38,
     "metadata": {},
     "output_type": "execute_result"
    }
   ],
   "source": [
    "arr_6 =np.array([[1, 2, 3], [4, 5 ,6]])\n",
    "arr_6"
   ]
  },
  {
   "cell_type": "markdown",
   "id": "67633962",
   "metadata": {},
   "source": [
    "12. Generates an array [0 2.5 5 7.5 10]"
   ]
  },
  {
   "cell_type": "code",
   "execution_count": 42,
   "id": "cebb086f",
   "metadata": {},
   "outputs": [
    {
     "data": {
      "text/plain": [
       "array([[ 0. ,  2.5,  5. ,  7.5, 10. ]])"
      ]
     },
     "execution_count": 42,
     "metadata": {},
     "output_type": "execute_result"
    }
   ],
   "source": [
    "arr_7 = np.array([ [0, 2.5, 5, 7.5, 10]])\n",
    "arr_7"
   ]
  },
  {
   "cell_type": "markdown",
   "id": "2ac6248c",
   "metadata": {},
   "source": [
    "13. Generates an 3x3 array of zeros"
   ]
  },
  {
   "cell_type": "code",
   "execution_count": 43,
   "id": "5d8be893",
   "metadata": {},
   "outputs": [
    {
     "data": {
      "text/plain": [
       "array([[0., 0., 0.],\n",
       "       [0., 0., 0.],\n",
       "       [0., 0., 0.]])"
      ]
     },
     "execution_count": 43,
     "metadata": {},
     "output_type": "execute_result"
    }
   ],
   "source": [
    "arr_7= np.zeros((3,3))\n",
    "arr_7"
   ]
  },
  {
   "cell_type": "markdown",
   "id": "248b6aa4",
   "metadata": {},
   "source": [
    "14. Create array from 0.1 to 10 with 12 elements, inclusively"
   ]
  },
  {
   "cell_type": "code",
   "execution_count": 44,
   "id": "fa8acb36",
   "metadata": {},
   "outputs": [
    {
     "data": {
      "text/plain": [
       "array([ 0.1,  1. ,  1.9,  2.8,  3.7,  4.6,  5.5,  6.4,  7.3,  8.2,  9.1,\n",
       "       10. ])"
      ]
     },
     "execution_count": 44,
     "metadata": {},
     "output_type": "execute_result"
    }
   ],
   "source": [
    "arr_8 =np.linspace(0.1,10,12)\n",
    "arr_8"
   ]
  },
  {
   "cell_type": "markdown",
   "id": "3214f8ed",
   "metadata": {},
   "source": [
    "15. Create a matrix with seven columns and five rows of ten(10)."
   ]
  },
  {
   "cell_type": "code",
   "execution_count": 46,
   "id": "e5cf0278",
   "metadata": {},
   "outputs": [
    {
     "data": {
      "text/plain": [
       "array([[10, 10, 10, 10, 10],\n",
       "       [10, 10, 10, 10, 10],\n",
       "       [10, 10, 10, 10, 10],\n",
       "       [10, 10, 10, 10, 10],\n",
       "       [10, 10, 10, 10, 10],\n",
       "       [10, 10, 10, 10, 10],\n",
       "       [10, 10, 10, 10, 10]])"
      ]
     },
     "execution_count": 46,
     "metadata": {},
     "output_type": "execute_result"
    }
   ],
   "source": [
    "arr_9 = np.full((7,5),10)\n",
    "arr_9"
   ]
  },
  {
   "cell_type": "markdown",
   "id": "14397e1e",
   "metadata": {},
   "source": [
    "16. What is the difference between numpy and list?"
   ]
  },
  {
   "cell_type": "raw",
   "id": "29c2564e",
   "metadata": {},
   "source": [
    "# Numpy can take multiple dimensions but lists only take a one dimensional in"
   ]
  },
  {
   "cell_type": "markdown",
   "id": "4fcce8ae",
   "metadata": {},
   "source": [
    "17. Create a 1D array of ones consisting of  50  values. Change the values of the array so that the values alternate between ones and zeros ie  1,0,1,0,1,0,1,0,1...  ensuring that the starting value is  1 "
   ]
  },
  {
   "cell_type": "code",
   "execution_count": 56,
   "id": "dd468985",
   "metadata": {},
   "outputs": [
    {
     "data": {
      "text/plain": [
       "array([1., 0., 1., 0., 1., 0., 1., 0., 1., 0., 1., 0., 1., 0., 1., 0., 1.,\n",
       "       0., 1., 0., 1., 0., 1., 0., 1., 0., 1., 0., 1., 0., 1., 0., 1., 0.,\n",
       "       1., 0., 1., 0., 1., 0., 1., 0., 1., 0., 1., 0., 1., 0., 1., 0., 1.])"
      ]
     },
     "execution_count": 56,
     "metadata": {},
     "output_type": "execute_result"
    }
   ],
   "source": [
    "arr_10 =np.ones(51)\n",
    "arr_10[1::2] =0\n",
    "arr_10"
   ]
  },
  {
   "cell_type": "markdown",
   "id": "4a3a1bab",
   "metadata": {},
   "source": [
    "18. Generate a  10×10  matrix of zeros.\n",
    "Make this matrix an identity matrix"
   ]
  },
  {
   "cell_type": "code",
   "execution_count": 60,
   "id": "a3a79514",
   "metadata": {},
   "outputs": [
    {
     "data": {
      "text/plain": [
       "array([[0., 0., 0., 0., 0., 0., 0., 0., 0., 0.],\n",
       "       [0., 0., 0., 0., 0., 0., 0., 0., 0., 0.],\n",
       "       [0., 0., 0., 0., 0., 0., 0., 0., 0., 0.],\n",
       "       [0., 0., 0., 0., 0., 0., 0., 0., 0., 0.],\n",
       "       [0., 0., 0., 0., 0., 0., 0., 0., 0., 0.],\n",
       "       [0., 0., 0., 0., 0., 0., 0., 0., 0., 0.],\n",
       "       [0., 0., 0., 0., 0., 0., 0., 0., 0., 0.],\n",
       "       [0., 0., 0., 0., 0., 0., 0., 0., 0., 0.],\n",
       "       [0., 0., 0., 0., 0., 0., 0., 0., 0., 0.],\n",
       "       [0., 0., 0., 0., 0., 0., 0., 0., 0., 0.]])"
      ]
     },
     "execution_count": 60,
     "metadata": {},
     "output_type": "execute_result"
    }
   ],
   "source": [
    "arr_11 =np.zeros((10,10))\n",
    "arr_11"
   ]
  },
  {
   "cell_type": "markdown",
   "id": "434544f2",
   "metadata": {},
   "source": [
    "19. Generate an array x to be a  10×10  array of zeros. Redefine its diagonal components (from left to right) to equal one"
   ]
  },
  {
   "cell_type": "code",
   "execution_count": 5,
   "id": "6b9fa3da",
   "metadata": {},
   "outputs": [
    {
     "data": {
      "text/plain": [
       "array([[1., 0., 0., 0., 0., 0., 0., 0., 0., 0.],\n",
       "       [0., 1., 0., 0., 0., 0., 0., 0., 0., 0.],\n",
       "       [0., 0., 1., 0., 0., 0., 0., 0., 0., 0.],\n",
       "       [0., 0., 0., 1., 0., 0., 0., 0., 0., 0.],\n",
       "       [0., 0., 0., 0., 1., 0., 0., 0., 0., 0.],\n",
       "       [0., 0., 0., 0., 0., 1., 0., 0., 0., 0.],\n",
       "       [0., 0., 0., 0., 0., 0., 1., 0., 0., 0.],\n",
       "       [0., 0., 0., 0., 0., 0., 0., 1., 0., 0.],\n",
       "       [0., 0., 0., 0., 0., 0., 0., 0., 1., 0.],\n",
       "       [0., 0., 0., 0., 0., 0., 0., 0., 0., 1.]])"
      ]
     },
     "execution_count": 5,
     "metadata": {},
     "output_type": "execute_result"
    }
   ],
   "source": [
    "x = np.zeros((10,10))\n",
    "np.fill_diagonal(x,1)\n",
    "x"
   ]
  },
  {
   "cell_type": "markdown",
   "id": "4ff0163c",
   "metadata": {},
   "source": [
    "20. What is the dot products of this two matrix [[1,2],[3,4]] and [[5,6],[7,8]]"
   ]
  },
  {
   "cell_type": "code",
   "execution_count": 92,
   "id": "5d7867e9",
   "metadata": {},
   "outputs": [
    {
     "data": {
      "text/plain": [
       "array([[1, 2],\n",
       "       [3, 4]])"
      ]
     },
     "execution_count": 92,
     "metadata": {},
     "output_type": "execute_result"
    }
   ],
   "source": [
    "mat_1 =np.array([[1,2],[3,4]])\n",
    "mat_1"
   ]
  },
  {
   "cell_type": "code",
   "execution_count": null,
   "id": "d5635a27",
   "metadata": {},
   "outputs": [],
   "source": []
  },
  {
   "cell_type": "markdown",
   "id": "7b090d8f",
   "metadata": {},
   "source": [
    "21.  Multiply these two matrix [[1,2],[3,4]] and [[5,6],[7,8]]"
   ]
  },
  {
   "cell_type": "code",
   "execution_count": 65,
   "id": "825e9453",
   "metadata": {},
   "outputs": [
    {
     "data": {
      "text/plain": [
       "array([[1, 2],\n",
       "       [3, 4]])"
      ]
     },
     "execution_count": 65,
     "metadata": {},
     "output_type": "execute_result"
    }
   ],
   "source": [
    "mat_w =np.array([[1,2],[3,4]])\n",
    "mat_w"
   ]
  },
  {
   "cell_type": "code",
   "execution_count": 66,
   "id": "dd078da9",
   "metadata": {},
   "outputs": [
    {
     "data": {
      "text/plain": [
       "array([[5, 6],\n",
       "       [7, 8]])"
      ]
     },
     "execution_count": 66,
     "metadata": {},
     "output_type": "execute_result"
    }
   ],
   "source": [
    "mat_x =np.array([[5,6],[7,8]])\n",
    "mat_x"
   ]
  },
  {
   "cell_type": "code",
   "execution_count": 67,
   "id": "45662513",
   "metadata": {},
   "outputs": [
    {
     "data": {
      "text/plain": [
       "array([[ 5, 12],\n",
       "       [21, 32]])"
      ]
     },
     "execution_count": 67,
     "metadata": {},
     "output_type": "execute_result"
    }
   ],
   "source": [
    "mat_w*mat_x"
   ]
  },
  {
   "cell_type": "code",
   "execution_count": null,
   "id": "3766d9d7",
   "metadata": {},
   "outputs": [],
   "source": [
    "22. Multiply this matrix  [[1,2],[3,4]] by a  scalar value of 5"
   ]
  },
  {
   "cell_type": "code",
   "execution_count": 93,
   "id": "1d3b67bf",
   "metadata": {},
   "outputs": [
    {
     "data": {
      "text/plain": [
       "array([[1, 2],\n",
       "       [3, 4]])"
      ]
     },
     "execution_count": 93,
     "metadata": {},
     "output_type": "execute_result"
    }
   ],
   "source": [
    "d=5\n",
    "mat_y=np.array([[1,2], [3,4]])\n",
    "mat_y"
   ]
  },
  {
   "cell_type": "code",
   "execution_count": null,
   "id": "1ee05d63",
   "metadata": {},
   "outputs": [],
   "source": []
  },
  {
   "cell_type": "code",
   "execution_count": null,
   "id": "82628ef3",
   "metadata": {},
   "outputs": [],
   "source": [
    "23. A = ([[1,2]),[3,4]] and B = transpose of A. Calculate AxB"
   ]
  },
  {
   "cell_type": "code",
   "execution_count": 70,
   "id": "32f3783b",
   "metadata": {},
   "outputs": [
    {
     "data": {
      "text/plain": [
       "array([[1, 2],\n",
       "       [3, 4]])"
      ]
     },
     "execution_count": 70,
     "metadata": {},
     "output_type": "execute_result"
    }
   ],
   "source": [
    "A= np.array([[1,2], [3,4]])\n",
    "A"
   ]
  },
  {
   "cell_type": "code",
   "execution_count": 71,
   "id": "0dab8cbd",
   "metadata": {},
   "outputs": [
    {
     "data": {
      "text/plain": [
       "array([[1, 3],\n",
       "       [2, 4]])"
      ]
     },
     "execution_count": 71,
     "metadata": {},
     "output_type": "execute_result"
    }
   ],
   "source": [
    "B= A.transpose((1,0))\n",
    "B"
   ]
  },
  {
   "cell_type": "code",
   "execution_count": 72,
   "id": "7446497b",
   "metadata": {},
   "outputs": [
    {
     "data": {
      "text/plain": [
       "array([[ 1,  6],\n",
       "       [ 6, 16]])"
      ]
     },
     "execution_count": 72,
     "metadata": {},
     "output_type": "execute_result"
    }
   ],
   "source": [
    "A*B"
   ]
  },
  {
   "cell_type": "markdown",
   "id": "87bc118d",
   "metadata": {},
   "source": [
    "24. A= [[1,2],[3,4]] and B =  [[5,6],[7,8]]. Is A x B = B x A ? Show working"
   ]
  },
  {
   "cell_type": "code",
   "execution_count": 73,
   "id": "29bec7e5",
   "metadata": {},
   "outputs": [
    {
     "data": {
      "text/plain": [
       "array([[1, 2],\n",
       "       [3, 4]])"
      ]
     },
     "execution_count": 73,
     "metadata": {},
     "output_type": "execute_result"
    }
   ],
   "source": [
    "A= np.array([[1,2], [3,4]])\n",
    "A"
   ]
  },
  {
   "cell_type": "code",
   "execution_count": 74,
   "id": "c47e9b24",
   "metadata": {},
   "outputs": [
    {
     "data": {
      "text/plain": [
       "array([[5, 6],\n",
       "       [7, 8]])"
      ]
     },
     "execution_count": 74,
     "metadata": {},
     "output_type": "execute_result"
    }
   ],
   "source": [
    "B=np.array([[5,6],[7,8]])\n",
    "B"
   ]
  },
  {
   "cell_type": "code",
   "execution_count": 81,
   "id": "74190432",
   "metadata": {},
   "outputs": [
    {
     "data": {
      "text/plain": [
       "array([[ 5, 12],\n",
       "       [21, 32]])"
      ]
     },
     "execution_count": 81,
     "metadata": {},
     "output_type": "execute_result"
    }
   ],
   "source": [
    "A * B"
   ]
  },
  {
   "cell_type": "code",
   "execution_count": 76,
   "id": "426ee149",
   "metadata": {},
   "outputs": [
    {
     "data": {
      "text/plain": [
       "array([[ 5, 12],\n",
       "       [21, 32]])"
      ]
     },
     "execution_count": 76,
     "metadata": {},
     "output_type": "execute_result"
    }
   ],
   "source": [
    "B*A"
   ]
  },
  {
   "cell_type": "markdown",
   "id": "390f3940",
   "metadata": {},
   "source": [
    "25. Creates an array [[0 1 2] [3 4 5]]\n",
    "- Let A = first row of the matrix\n",
    "- B = second row of the matrix\n",
    "- C = second column of the Matrix\n",
    "- D = first row, third column of the matrix\n",
    "- print A , B , C, D"
   ]
  },
  {
   "cell_type": "code",
   "execution_count": 83,
   "id": "1d69c6df",
   "metadata": {},
   "outputs": [
    {
     "data": {
      "text/plain": [
       "array([[0, 1, 2],\n",
       "       [3, 4, 5]])"
      ]
     },
     "execution_count": 83,
     "metadata": {},
     "output_type": "execute_result"
    }
   ],
   "source": [
    "array= np.array([[0, 1, 2], [3, 4, 5]])\n",
    "array"
   ]
  },
  {
   "cell_type": "code",
   "execution_count": 85,
   "id": "4cf2a133",
   "metadata": {},
   "outputs": [
    {
     "data": {
      "text/plain": [
       "array([0, 1, 2])"
      ]
     },
     "execution_count": 85,
     "metadata": {},
     "output_type": "execute_result"
    }
   ],
   "source": [
    "A= array[0]\n",
    "A"
   ]
  },
  {
   "cell_type": "code",
   "execution_count": 86,
   "id": "700c1318",
   "metadata": {},
   "outputs": [
    {
     "data": {
      "text/plain": [
       "array([3, 4, 5])"
      ]
     },
     "execution_count": 86,
     "metadata": {},
     "output_type": "execute_result"
    }
   ],
   "source": [
    "B=array[1]\n",
    "B"
   ]
  },
  {
   "cell_type": "code",
   "execution_count": 89,
   "id": "2100f5f3",
   "metadata": {},
   "outputs": [
    {
     "data": {
      "text/plain": [
       "array([1, 4])"
      ]
     },
     "execution_count": 89,
     "metadata": {},
     "output_type": "execute_result"
    }
   ],
   "source": [
    "C = array[:,1]\n",
    "C"
   ]
  },
  {
   "cell_type": "code",
   "execution_count": 88,
   "id": "84aef6a2",
   "metadata": {},
   "outputs": [
    {
     "data": {
      "text/plain": [
       "2"
      ]
     },
     "execution_count": 88,
     "metadata": {},
     "output_type": "execute_result"
    }
   ],
   "source": [
    "D=array[0][-1]\n",
    "D"
   ]
  },
  {
   "cell_type": "code",
   "execution_count": 96,
   "id": "52862c72",
   "metadata": {},
   "outputs": [
    {
     "name": "stdout",
     "output_type": "stream",
     "text": [
      "[0 1 2] [3 4 5] [1 4] 2\n"
     ]
    }
   ],
   "source": [
    "print(A,B,C,D)"
   ]
  },
  {
   "cell_type": "code",
   "execution_count": null,
   "id": "0b9ecb8c",
   "metadata": {},
   "outputs": [],
   "source": []
  }
 ],
 "metadata": {
  "kernelspec": {
   "display_name": "Python 3 (ipykernel)",
   "language": "python",
   "name": "python3"
  },
  "language_info": {
   "codemirror_mode": {
    "name": "ipython",
    "version": 3
   },
   "file_extension": ".py",
   "mimetype": "text/x-python",
   "name": "python",
   "nbconvert_exporter": "python",
   "pygments_lexer": "ipython3",
   "version": "3.9.13"
  }
 },
 "nbformat": 4,
 "nbformat_minor": 5
}
