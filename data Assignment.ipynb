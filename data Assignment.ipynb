{
 "cells": [
  {
   "cell_type": "code",
   "execution_count": null,
   "id": "3e9a839a",
   "metadata": {},
   "outputs": [],
   "source": [
    "### Q1\n",
    "   A-SET\n",
    "   B-TUP\n",
    "   C-DICT\n",
    "   D-LIST"
   ]
  },
  {
   "cell_type": "code",
   "execution_count": null,
   "id": "9ad3f43a",
   "metadata": {},
   "outputs": [],
   "source": [
    "### Q2.State two differences between a list and a tuple in Python.\n",
    "ANS- List can be appended\n",
    "     List is muted \n",
    "     Tup immutated"
   ]
  },
  {
   "cell_type": "code",
   "execution_count": 8,
   "id": "41763b9b",
   "metadata": {},
   "outputs": [
    {
     "name": "stdout",
     "output_type": "stream",
     "text": [
      "('lion', 'pig')\n",
      "('hen', 'horse')\n",
      "['lion', 'pig', 'cow', 'hen', 'horse', 'bee', 'dog']\n"
     ]
    },
    {
     "data": {
      "text/plain": [
       "5"
      ]
     },
     "execution_count": 8,
     "metadata": {},
     "output_type": "execute_result"
    }
   ],
   "source": [
    "### Q3 Make a list containing names of five animals with a variable name animal_list.\n",
    " ##Write a code for the following:\n",
    "  ##Print the first two animals\n",
    "animal_lst=('lion','pig','cow','hen','horse')\n",
    "print(animal_lst[0:2])\n",
    "\n",
    "   ##Print the last two animals\n",
    "animal_lst=('lion','pig','cow','hen','horse')\n",
    "print(animal_lst[-2:])\n",
    "\n",
    "#### Add three extra animals to the variable animal_list\n",
    "animal_lst= ['lion','pig','cow','hen','horse']\n",
    "animal_lst.extend(['bee','dog'])\n",
    "print(animal_lst)\n",
    "\n",
    "  \n",
    "\n",
    "### How many animals are in the animal_list?\n",
    "animal_lst= {'lion','pig','cow','hen','horse'}\n",
    "len(animal_lst)\n",
    "\n",
    "#### Create a variable animal_set which stores the set of animal_list\n"
   ]
  },
  {
   "cell_type": "code",
   "execution_count": 1,
   "id": "837defc5",
   "metadata": {},
   "outputs": [
    {
     "name": "stdout",
     "output_type": "stream",
     "text": [
      "['sunglasses', 'hat']\n",
      "['passport', 'laptop']\n",
      "['suit', 'shoes']\n"
     ]
    }
   ],
   "source": [
    "###Q4 Create a list called first containing only the two first items from suitcase.\n",
    "suitcase = [\"sunglasses\", \"hat\", \"passport\", \"laptop\", \"suit\", \"shoes\"]\n",
    "first = suitcase[:2]\n",
    "print(first)\n",
    "##Create a list called middle containing only the two middle items from suitcase.\n",
    "suitcase = [\"sunglasses\", \"hat\", \"passport\", \"laptop\", \"suit\", \"shoes\"]\n",
    "middle = suitcase[2:4]\n",
    "print(middle)\n",
    "###Create a list called last made up only of the last two items from suitcase.\n",
    "suitcase = [\"sunglasses\", \"hat\", \"passport\", \"laptop\", \"suit\", \"shoes\"]\n",
    "last = suitcase[4:6]\n",
    "print(last)"
   ]
  },
  {
   "cell_type": "code",
   "execution_count": 2,
   "id": "12971470",
   "metadata": {},
   "outputs": [
    {
     "name": "stdout",
     "output_type": "stream",
     "text": [
      "[20, 25, 30, 35, 40, 45, 50, 55, 60, 65, 70]\n"
     ]
    }
   ],
   "source": [
    "#### Q5 Write a python code to insert 35 into the list below. Make sure it is inserted in the right position to maintain the order of the data.\n",
    "\n",
    "\n",
    "values = [20,25,30,40,45,50,55,60,65,70]\n",
    "values.insert(3,35)\n",
    "print(values)\n"
   ]
  },
  {
   "cell_type": "code",
   "execution_count": null,
   "id": "831b0277",
   "metadata": {},
   "outputs": [],
   "source": [
    "### Q6 Given that Python lists and Python tuples are quite similar – when might you prefer to use a tuple over a list?\n",
    "\n"
   ]
  },
  {
   "cell_type": "code",
   "execution_count": 3,
   "id": "7794fb09",
   "metadata": {},
   "outputs": [
    {
     "name": "stdout",
     "output_type": "stream",
     "text": [
      "dict_keys(['Greater Accra', 'Central Region', 'Western Region', 'Esatern Region', 'Savanah Region'])\n",
      "dict_values(['Accra', 'Cape Coast', 'Takoradi', 'Koforidua', 'Bawku'])\n"
     ]
    }
   ],
   "source": [
    "#### Q7 Create a dictionary with 5 Ghana regions and their capitals and store it in the variable region_capital\n",
    "#### Print out the keys of region_capital#\n",
    "#### Print out the values of region_capital#\n",
    "\n",
    "region_capital={'Greater Accra': 'Accra','Central Region': 'Cape Coast', 'Western Region':'Takoradi','Esatern Region':'Koforidua','Savanah Region':'Bawku'}\n",
    "print(region_capital.keys())\n",
    "print(region_capital.values())\n"
   ]
  },
  {
   "cell_type": "code",
   "execution_count": 13,
   "id": "74481450",
   "metadata": {},
   "outputs": [
    {
     "name": "stdout",
     "output_type": "stream",
     "text": [
      "16\n"
     ]
    }
   ],
   "source": [
    "#### Q8 `values = [3,3,4,5,6,3,4,3,5,2,4,2,5,6,1,6]`\n",
    "#Using the codes above answer the following questions:\n",
    "#What is the total number of elements in values?    \n",
    "\n",
    "\n",
    "values = [3,3,4,5,6,3,4,3,5,2,4,2,5,6,1,6]\n",
    "print(len(values))"
   ]
  },
  {
   "cell_type": "code",
   "execution_count": 14,
   "id": "5529235c",
   "metadata": {},
   "outputs": [
    {
     "name": "stdout",
     "output_type": "stream",
     "text": [
      "62\n"
     ]
    }
   ],
   "source": [
    "print(sum(values))"
   ]
  },
  {
   "cell_type": "code",
   "execution_count": 15,
   "id": "b480e6e0",
   "metadata": {},
   "outputs": [
    {
     "name": "stdout",
     "output_type": "stream",
     "text": [
      "6\n"
     ]
    }
   ],
   "source": [
    "print(max(values))"
   ]
  },
  {
   "cell_type": "code",
   "execution_count": 19,
   "id": "ac163c73",
   "metadata": {},
   "outputs": [
    {
     "data": {
      "text/plain": [
       "set"
      ]
     },
     "execution_count": 19,
     "metadata": {},
     "output_type": "execute_result"
    }
   ],
   "source": [
    "values_set = set(values)\n",
    "type(values_set)\n",
    "\n"
   ]
  },
  {
   "cell_type": "code",
   "execution_count": 20,
   "id": "40dcc88c",
   "metadata": {},
   "outputs": [
    {
     "data": {
      "text/plain": [
       "16"
      ]
     },
     "execution_count": 20,
     "metadata": {},
     "output_type": "execute_result"
    }
   ],
   "source": [
    "len(values)"
   ]
  },
  {
   "cell_type": "code",
   "execution_count": null,
   "id": "9f3906f7",
   "metadata": {},
   "outputs": [],
   "source": [
    "##Q9\n",
    "dicts = {}\n",
    "for j in range(1,16):\n",
    "    dicts[j] = j**2\n",
    "    dicts"
   ]
  },
  {
   "cell_type": "code",
   "execution_count": 21,
   "id": "c1f3d25a",
   "metadata": {},
   "outputs": [
    {
     "ename": "SyntaxError",
     "evalue": "invalid syntax (2698818839.py, line 5)",
     "output_type": "error",
     "traceback": [
      "\u001b[1;36m  File \u001b[1;32m\"C:\\Users\\HP\\AppData\\Local\\Temp\\ipykernel_548\\2698818839.py\"\u001b[1;36m, line \u001b[1;32m5\u001b[0m\n\u001b[1;33m    for key in keys\u001b[0m\n\u001b[1;37m                   ^\u001b[0m\n\u001b[1;31mSyntaxError\u001b[0m\u001b[1;31m:\u001b[0m invalid syntax\n"
     ]
    }
   ],
   "source": [
    "### Q10\n",
    "\n",
    "keys = [x,y,z]\n",
    "diction = {}\n",
    "for key in keys\n",
    " if key =='x'\n",
    "    diction[key] = list(range(11,21))\n",
    "elif key == 'y'\n",
    "    diction[key] = list(range(21,30))\n",
    "elif key== 'z'\n",
    "    diction[key] = list(range(31,40))\n",
    "for key in keys:\n",
    "print(f\"{key} : {diction[key][4]}\")"
   ]
  },
  {
   "cell_type": "code",
   "execution_count": null,
   "id": "b40aeaa5",
   "metadata": {},
   "outputs": [],
   "source": []
  }
 ],
 "metadata": {
  "kernelspec": {
   "display_name": "Python 3 (ipykernel)",
   "language": "python",
   "name": "python3"
  },
  "language_info": {
   "codemirror_mode": {
    "name": "ipython",
    "version": 3
   },
   "file_extension": ".py",
   "mimetype": "text/x-python",
   "name": "python",
   "nbconvert_exporter": "python",
   "pygments_lexer": "ipython3",
   "version": "3.9.13"
  }
 },
 "nbformat": 4,
 "nbformat_minor": 5
}
